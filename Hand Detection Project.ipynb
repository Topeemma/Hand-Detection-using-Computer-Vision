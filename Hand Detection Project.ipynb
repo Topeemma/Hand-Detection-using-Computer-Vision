{
 "cells": [
  {
   "cell_type": "code",
   "execution_count": 25,
   "id": "ac0b6347",
   "metadata": {},
   "outputs": [],
   "source": [
    "# !pip install mediapipe"
   ]
  },
  {
   "cell_type": "code",
   "execution_count": 26,
   "id": "b6c1d7c9",
   "metadata": {},
   "outputs": [],
   "source": [
    "#step 2: Import all necessary libraries\n",
    "\n",
    "import cv2\n",
    "import mediapipe as mp"
   ]
  },
  {
   "cell_type": "code",
   "execution_count": 27,
   "id": "824f0c7e",
   "metadata": {},
   "outputs": [],
   "source": [
    "# step 2: I identify your webcam\n",
    "cap = cv2.VideoCapture(0)"
   ]
  },
  {
   "cell_type": "code",
   "execution_count": 28,
   "id": "5195ecea",
   "metadata": {},
   "outputs": [],
   "source": [
    "# step 4: leveraging the mediapipe library used for pose detection\n",
    "mpHands = mp.solutions.hands\n",
    "hands = mpHands.Hands()\n",
    "mpDraw = mp.solutions.drawing_utils\n"
   ]
  },
  {
   "cell_type": "code",
   "execution_count": 29,
   "id": "4f2e74c0",
   "metadata": {},
   "outputs": [],
   "source": [
    "# step 3 : switch on the camera\n",
    "while True:\n",
    "    _, ing = cap.read()\n",
    "    \n",
    "    # Convert image from BGR to RGB\n",
    "    ingRGB = cv2.cvtColor(ing, cv2.COLOR_BGR2RGB)\n",
    "    \n",
    "    # Apply mediapipe\n",
    "    results = hands.process(ingRGB)\n",
    "    \n",
    "    #print(results.multi_hand_landmarks)\n",
    "    \n",
    "    \n",
    "    # Check if hand landmarks are detected\n",
    "    if results.multi_hand_landmarks:\n",
    "        for handlns in results.multi_hand_landmarks:\n",
    "            for id, ln in enumerate(handlns.landmark):\n",
    "               # print(id, ln)\n",
    "    \n",
    "                mpDraw.draw_landmarks(ing, handlns, mpHands.HAND_CONNECTIONS)\n",
    "    \n",
    "    \n",
    "    cv2.putText(ing, \"10Alytics Hand Detection Program\", (10,70), cv2.FONT_HERSHEY_PLAIN, 3, (255, 255,255),2)\n",
    "    cv2.imshow(\"10Alytics Hand Detection Project\", ing)\n",
    "    if cv2.waitKey(1) & 0xFF == ord('q'):\n",
    "        break\n",
    "\n",
    "# Release the capture once all the processing is done\n",
    "cap.release()\n",
    "cv2.destroyAllWindows()\n"
   ]
  },
  {
   "cell_type": "code",
   "execution_count": null,
   "id": "acbbea66",
   "metadata": {},
   "outputs": [],
   "source": []
  },
  {
   "cell_type": "code",
   "execution_count": null,
   "id": "694afd2b",
   "metadata": {},
   "outputs": [],
   "source": []
  },
  {
   "cell_type": "code",
   "execution_count": null,
   "id": "9ae4eca4",
   "metadata": {},
   "outputs": [],
   "source": []
  },
  {
   "cell_type": "code",
   "execution_count": null,
   "id": "58076dd9",
   "metadata": {},
   "outputs": [],
   "source": []
  }
 ],
 "metadata": {
  "kernelspec": {
   "display_name": "Python 3 (ipykernel)",
   "language": "python",
   "name": "python3"
  },
  "language_info": {
   "codemirror_mode": {
    "name": "ipython",
    "version": 3
   },
   "file_extension": ".py",
   "mimetype": "text/x-python",
   "name": "python",
   "nbconvert_exporter": "python",
   "pygments_lexer": "ipython3",
   "version": "3.11.5"
  }
 },
 "nbformat": 4,
 "nbformat_minor": 5
}
